{
 "cells": [
  {
   "cell_type": "code",
   "execution_count": 33,
   "metadata": {},
   "outputs": [
    {
     "name": "stdout",
     "output_type": "stream",
     "text": [
      " train: 100  test: 100\n"
     ]
    }
   ],
   "source": [
    "from sklearn.model_selection import train_test_split\n",
    "from glob import glob\n",
    "import sys\n",
    "import os\n",
    "\n",
    "file_cur_path = sys.path[0]\n",
    "data_paths_training = glob(os.path.join(file_cur_path,\"data/dataset/*/data_object_velodyne/training/*/*\"))\n",
    "data_paths_testing = glob(os.path.join(file_cur_path,\"data/dataset/*/data_object_velodyne/testing/*/*\"))\n",
    "\n",
    "'''\n",
    "keep: if True, keep original test/train split,else we just \n",
    "#combine all file path and re-assign them as train/test according to test_perc\n",
    "'''\n",
    "\n",
    "def custom_train_test_split(test_perc = None):\n",
    "    tf = open('./data/train.txt', 'w')\n",
    "    vf = open('./data/val.txt', 'w')\n",
    "    if not test_perc:\n",
    "        train_paths = data_paths_training\n",
    "        test_paths = data_paths_testing\n",
    "    else:\n",
    "        data_cum = data_paths_training+data_paths_testing\n",
    "        train_paths, test_paths = train_test_split(data_cum, test_size=test_perc)\n",
    "    \n",
    "    print(\" train:\",len(train_paths),\" test:\",len(test_paths))\n",
    "    train_paths = '\\n'.join(sorted(train_paths))\n",
    "    test_paths = '\\n'.join(sorted(test_paths))\n",
    "    tf.write(train_paths)\n",
    "    vf.write(test_paths)\n",
    "    tf.close()\n",
    "    vf.close()\n",
    "\n",
    "custom_train_test_split()"
   ]
  },
  {
   "cell_type": "code",
   "execution_count": 34,
   "metadata": {},
   "outputs": [
    {
     "name": "stdout",
     "output_type": "stream",
     "text": [
      "      99 data/train.txt\n",
      "      99 data/val.txt\n"
     ]
    }
   ],
   "source": [
    "!wc -l data/train.txt\n",
    "!wc -l data/val.txt"
   ]
  },
  {
   "cell_type": "code",
   "execution_count": null,
   "metadata": {},
   "outputs": [],
   "source": []
  }
 ],
 "metadata": {
  "kernelspec": {
   "display_name": "Python 3",
   "language": "python",
   "name": "python3"
  },
  "language_info": {
   "codemirror_mode": {
    "name": "ipython",
    "version": 3
   },
   "file_extension": ".py",
   "mimetype": "text/x-python",
   "name": "python",
   "nbconvert_exporter": "python",
   "pygments_lexer": "ipython3",
   "version": "3.7.3"
  }
 },
 "nbformat": 4,
 "nbformat_minor": 2
}
