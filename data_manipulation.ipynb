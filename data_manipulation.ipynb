{
 "cells": [
  {
   "cell_type": "code",
   "execution_count": 2,
   "metadata": {},
   "outputs": [
    {
     "name": "stdout",
     "output_type": "stream",
     "text": [
      " train: 100  test: 100\n"
     ]
    }
   ],
   "source": [
    "from sklearn.model_selection import train_test_split\n",
    "from glob import glob\n",
    "import sys\n",
    "import os\n",
    "\n",
    "file_cur_path = sys.path[0]\n",
    "data_paths_training = glob(os.path.join(file_cur_path,\"data/dataset/*/data_object_velodyne/training/*/*\"))\n",
    "data_paths_testing = glob(os.path.join(file_cur_path,\"data/dataset/*/data_object_velodyne/testing/*/*\"))\n",
    "\n",
    "'''\n",
    "keep: if True, keep original test/train split,else we just \n",
    "#combine all file path and re-assign them as train/test according to test_perc\n",
    "'''\n",
    "\n",
    "def custom_train_test_split(test_perc = None):\n",
    "    tf = open('./data/train.txt', 'w')\n",
    "    vf = open('./data/val.txt', 'w')\n",
    "    if not test_perc:\n",
    "        train_paths = data_paths_training\n",
    "        test_paths = data_paths_testing\n",
    "    else:\n",
    "        data_cum = data_paths_training+data_paths_testing\n",
    "        train_paths, test_paths = train_test_split(data_cum, test_size=test_perc)\n",
    "    \n",
    "    print(\" train:\",len(train_paths),\" test:\",len(test_paths))\n",
    "    train_paths = '\\n'.join(sorted(train_paths))\n",
    "    test_paths = '\\n'.join(sorted(test_paths))\n",
    "    tf.write(train_paths)\n",
    "    vf.write(test_paths)\n",
    "    tf.close()\n",
    "    vf.close()\n",
    "\n",
    "custom_train_test_split()"
   ]
  },
  {
   "cell_type": "code",
   "execution_count": 34,
   "metadata": {},
   "outputs": [
    {
     "name": "stdout",
     "output_type": "stream",
     "text": [
      "      99 data/train.txt\n",
      "      99 data/val.txt\n"
     ]
    }
   ],
   "source": [
    "!wc -l data/train.txt\n",
    "!wc -l data/val.txt"
   ]
  },
  {
   "cell_type": "code",
   "execution_count": 3,
   "metadata": {},
   "outputs": [
    {
     "name": "stdout",
     "output_type": "stream",
     "text": [
      "./\n",
      "['./data/dataset/voxel_mini_data/data_object_velodyne/testing/velodyne/000078.bin', './data/dataset/voxel_mini_data/data_object_velodyne/testing/velodyne/000050.bin', './data/dataset/voxel_mini_data/data_object_velodyne/testing/velodyne/000044.bin', './data/dataset/voxel_mini_data/data_object_velodyne/testing/velodyne/000093.bin', './data/dataset/voxel_mini_data/data_object_velodyne/testing/velodyne/000087.bin', './data/dataset/voxel_mini_data/data_object_velodyne/testing/velodyne/000086.bin', './data/dataset/voxel_mini_data/data_object_velodyne/testing/velodyne/000092.bin', './data/dataset/voxel_mini_data/data_object_velodyne/testing/velodyne/000045.bin', './data/dataset/voxel_mini_data/data_object_velodyne/testing/velodyne/000051.bin', './data/dataset/voxel_mini_data/data_object_velodyne/testing/velodyne/000079.bin', './data/dataset/voxel_mini_data/data_object_velodyne/testing/velodyne/000047.bin', './data/dataset/voxel_mini_data/data_object_velodyne/testing/velodyne/000053.bin', './data/dataset/voxel_mini_data/data_object_velodyne/testing/velodyne/000084.bin', './data/dataset/voxel_mini_data/data_object_velodyne/testing/velodyne/000090.bin', './data/dataset/voxel_mini_data/data_object_velodyne/testing/velodyne/000091.bin', './data/dataset/voxel_mini_data/data_object_velodyne/testing/velodyne/000085.bin', './data/dataset/voxel_mini_data/data_object_velodyne/testing/velodyne/000052.bin', './data/dataset/voxel_mini_data/data_object_velodyne/testing/velodyne/000046.bin', './data/dataset/voxel_mini_data/data_object_velodyne/testing/velodyne/000042.bin', './data/dataset/voxel_mini_data/data_object_velodyne/testing/velodyne/000056.bin', './data/dataset/voxel_mini_data/data_object_velodyne/testing/velodyne/000081.bin', './data/dataset/voxel_mini_data/data_object_velodyne/testing/velodyne/000095.bin', './data/dataset/voxel_mini_data/data_object_velodyne/testing/velodyne/000094.bin', './data/dataset/voxel_mini_data/data_object_velodyne/testing/velodyne/000080.bin', './data/dataset/voxel_mini_data/data_object_velodyne/testing/velodyne/000057.bin', './data/dataset/voxel_mini_data/data_object_velodyne/testing/velodyne/000043.bin', './data/dataset/voxel_mini_data/data_object_velodyne/testing/velodyne/000055.bin', './data/dataset/voxel_mini_data/data_object_velodyne/testing/velodyne/000041.bin', './data/dataset/voxel_mini_data/data_object_velodyne/testing/velodyne/000069.bin', './data/dataset/voxel_mini_data/data_object_velodyne/testing/velodyne/000096.bin', './data/dataset/voxel_mini_data/data_object_velodyne/testing/velodyne/000082.bin', './data/dataset/voxel_mini_data/data_object_velodyne/testing/velodyne/000083.bin', './data/dataset/voxel_mini_data/data_object_velodyne/testing/velodyne/000097.bin', './data/dataset/voxel_mini_data/data_object_velodyne/testing/velodyne/000068.bin', './data/dataset/voxel_mini_data/data_object_velodyne/testing/velodyne/000040.bin', './data/dataset/voxel_mini_data/data_object_velodyne/testing/velodyne/000054.bin', './data/dataset/voxel_mini_data/data_object_velodyne/testing/velodyne/000033.bin', './data/dataset/voxel_mini_data/data_object_velodyne/testing/velodyne/000027.bin', './data/dataset/voxel_mini_data/data_object_velodyne/testing/velodyne/000026.bin', './data/dataset/voxel_mini_data/data_object_velodyne/testing/velodyne/000032.bin', './data/dataset/voxel_mini_data/data_object_velodyne/testing/velodyne/000018.bin', './data/dataset/voxel_mini_data/data_object_velodyne/testing/velodyne/000024.bin', './data/dataset/voxel_mini_data/data_object_velodyne/testing/velodyne/000030.bin', './data/dataset/voxel_mini_data/data_object_velodyne/testing/velodyne/000031.bin', './data/dataset/voxel_mini_data/data_object_velodyne/testing/velodyne/000025.bin', './data/dataset/voxel_mini_data/data_object_velodyne/testing/velodyne/000019.bin', './data/dataset/voxel_mini_data/data_object_velodyne/testing/velodyne/000021.bin', './data/dataset/voxel_mini_data/data_object_velodyne/testing/velodyne/000035.bin', './data/dataset/voxel_mini_data/data_object_velodyne/testing/velodyne/000009.bin', './data/dataset/voxel_mini_data/data_object_velodyne/testing/velodyne/000008.bin', './data/dataset/voxel_mini_data/data_object_velodyne/testing/velodyne/000034.bin', './data/dataset/voxel_mini_data/data_object_velodyne/testing/velodyne/000020.bin', './data/dataset/voxel_mini_data/data_object_velodyne/testing/velodyne/000036.bin', './data/dataset/voxel_mini_data/data_object_velodyne/testing/velodyne/000022.bin', './data/dataset/voxel_mini_data/data_object_velodyne/testing/velodyne/000023.bin', './data/dataset/voxel_mini_data/data_object_velodyne/testing/velodyne/000037.bin', './data/dataset/voxel_mini_data/data_object_velodyne/testing/velodyne/000012.bin', './data/dataset/voxel_mini_data/data_object_velodyne/testing/velodyne/000006.bin', './data/dataset/voxel_mini_data/data_object_velodyne/testing/velodyne/000007.bin', './data/dataset/voxel_mini_data/data_object_velodyne/testing/velodyne/000013.bin', './data/dataset/voxel_mini_data/data_object_velodyne/testing/velodyne/000039.bin', './data/dataset/voxel_mini_data/data_object_velodyne/testing/velodyne/000005.bin', './data/dataset/voxel_mini_data/data_object_velodyne/testing/velodyne/000011.bin', './data/dataset/voxel_mini_data/data_object_velodyne/testing/velodyne/000010.bin', './data/dataset/voxel_mini_data/data_object_velodyne/testing/velodyne/000004.bin', './data/dataset/voxel_mini_data/data_object_velodyne/testing/velodyne/000038.bin', './data/dataset/voxel_mini_data/data_object_velodyne/testing/velodyne/000000.bin', './data/dataset/voxel_mini_data/data_object_velodyne/testing/velodyne/000014.bin', './data/dataset/voxel_mini_data/data_object_velodyne/testing/velodyne/000028.bin', './data/dataset/voxel_mini_data/data_object_velodyne/testing/velodyne/000029.bin', './data/dataset/voxel_mini_data/data_object_velodyne/testing/velodyne/000015.bin', './data/dataset/voxel_mini_data/data_object_velodyne/testing/velodyne/000001.bin', './data/dataset/voxel_mini_data/data_object_velodyne/testing/velodyne/000017.bin', './data/dataset/voxel_mini_data/data_object_velodyne/testing/velodyne/000003.bin', './data/dataset/voxel_mini_data/data_object_velodyne/testing/velodyne/000002.bin', './data/dataset/voxel_mini_data/data_object_velodyne/testing/velodyne/000016.bin', './data/dataset/voxel_mini_data/data_object_velodyne/testing/velodyne/000059.bin', './data/dataset/voxel_mini_data/data_object_velodyne/testing/velodyne/000071.bin', './data/dataset/voxel_mini_data/data_object_velodyne/testing/velodyne/000065.bin', './data/dataset/voxel_mini_data/data_object_velodyne/testing/velodyne/000064.bin', './data/dataset/voxel_mini_data/data_object_velodyne/testing/velodyne/000070.bin', './data/dataset/voxel_mini_data/data_object_velodyne/testing/velodyne/000058.bin', './data/dataset/voxel_mini_data/data_object_velodyne/testing/velodyne/000066.bin', './data/dataset/voxel_mini_data/data_object_velodyne/testing/velodyne/000072.bin', './data/dataset/voxel_mini_data/data_object_velodyne/testing/velodyne/000099.bin', './data/dataset/voxel_mini_data/data_object_velodyne/testing/velodyne/000098.bin', './data/dataset/voxel_mini_data/data_object_velodyne/testing/velodyne/000073.bin', './data/dataset/voxel_mini_data/data_object_velodyne/testing/velodyne/000067.bin', './data/dataset/voxel_mini_data/data_object_velodyne/testing/velodyne/000063.bin', './data/dataset/voxel_mini_data/data_object_velodyne/testing/velodyne/000077.bin', './data/dataset/voxel_mini_data/data_object_velodyne/testing/velodyne/000088.bin', './data/dataset/voxel_mini_data/data_object_velodyne/testing/velodyne/000089.bin', './data/dataset/voxel_mini_data/data_object_velodyne/testing/velodyne/000076.bin', './data/dataset/voxel_mini_data/data_object_velodyne/testing/velodyne/000062.bin', './data/dataset/voxel_mini_data/data_object_velodyne/testing/velodyne/000074.bin', './data/dataset/voxel_mini_data/data_object_velodyne/testing/velodyne/000060.bin', './data/dataset/voxel_mini_data/data_object_velodyne/testing/velodyne/000048.bin', './data/dataset/voxel_mini_data/data_object_velodyne/testing/velodyne/000049.bin', './data/dataset/voxel_mini_data/data_object_velodyne/testing/velodyne/000061.bin', './data/dataset/voxel_mini_data/data_object_velodyne/testing/velodyne/000075.bin']\n",
      "['./data/dataset/voxel_mini_data/data_object_velodyne/training/velodyne/000078.bin', './data/dataset/voxel_mini_data/data_object_velodyne/training/velodyne/000050.bin', './data/dataset/voxel_mini_data/data_object_velodyne/training/velodyne/000044.bin', './data/dataset/voxel_mini_data/data_object_velodyne/training/velodyne/000093.bin', './data/dataset/voxel_mini_data/data_object_velodyne/training/velodyne/000087.bin', './data/dataset/voxel_mini_data/data_object_velodyne/training/velodyne/000086.bin', './data/dataset/voxel_mini_data/data_object_velodyne/training/velodyne/000092.bin', './data/dataset/voxel_mini_data/data_object_velodyne/training/velodyne/000045.bin', './data/dataset/voxel_mini_data/data_object_velodyne/training/velodyne/000051.bin', './data/dataset/voxel_mini_data/data_object_velodyne/training/velodyne/000079.bin', './data/dataset/voxel_mini_data/data_object_velodyne/training/velodyne/000047.bin', './data/dataset/voxel_mini_data/data_object_velodyne/training/velodyne/000053.bin', './data/dataset/voxel_mini_data/data_object_velodyne/training/velodyne/000084.bin', './data/dataset/voxel_mini_data/data_object_velodyne/training/velodyne/000090.bin', './data/dataset/voxel_mini_data/data_object_velodyne/training/velodyne/000091.bin', './data/dataset/voxel_mini_data/data_object_velodyne/training/velodyne/000085.bin', './data/dataset/voxel_mini_data/data_object_velodyne/training/velodyne/000052.bin', './data/dataset/voxel_mini_data/data_object_velodyne/training/velodyne/000046.bin', './data/dataset/voxel_mini_data/data_object_velodyne/training/velodyne/000042.bin', './data/dataset/voxel_mini_data/data_object_velodyne/training/velodyne/000056.bin', './data/dataset/voxel_mini_data/data_object_velodyne/training/velodyne/000081.bin', './data/dataset/voxel_mini_data/data_object_velodyne/training/velodyne/000095.bin', './data/dataset/voxel_mini_data/data_object_velodyne/training/velodyne/000094.bin', './data/dataset/voxel_mini_data/data_object_velodyne/training/velodyne/000080.bin', './data/dataset/voxel_mini_data/data_object_velodyne/training/velodyne/000057.bin', './data/dataset/voxel_mini_data/data_object_velodyne/training/velodyne/000043.bin', './data/dataset/voxel_mini_data/data_object_velodyne/training/velodyne/000055.bin', './data/dataset/voxel_mini_data/data_object_velodyne/training/velodyne/000041.bin', './data/dataset/voxel_mini_data/data_object_velodyne/training/velodyne/000069.bin', './data/dataset/voxel_mini_data/data_object_velodyne/training/velodyne/000096.bin', './data/dataset/voxel_mini_data/data_object_velodyne/training/velodyne/000082.bin', './data/dataset/voxel_mini_data/data_object_velodyne/training/velodyne/000083.bin', './data/dataset/voxel_mini_data/data_object_velodyne/training/velodyne/000097.bin', './data/dataset/voxel_mini_data/data_object_velodyne/training/velodyne/000068.bin', './data/dataset/voxel_mini_data/data_object_velodyne/training/velodyne/000040.bin', './data/dataset/voxel_mini_data/data_object_velodyne/training/velodyne/000054.bin', './data/dataset/voxel_mini_data/data_object_velodyne/training/velodyne/000033.bin', './data/dataset/voxel_mini_data/data_object_velodyne/training/velodyne/000027.bin', './data/dataset/voxel_mini_data/data_object_velodyne/training/velodyne/000026.bin', './data/dataset/voxel_mini_data/data_object_velodyne/training/velodyne/000032.bin', './data/dataset/voxel_mini_data/data_object_velodyne/training/velodyne/000018.bin', './data/dataset/voxel_mini_data/data_object_velodyne/training/velodyne/000024.bin', './data/dataset/voxel_mini_data/data_object_velodyne/training/velodyne/000030.bin', './data/dataset/voxel_mini_data/data_object_velodyne/training/velodyne/000031.bin', './data/dataset/voxel_mini_data/data_object_velodyne/training/velodyne/000025.bin', './data/dataset/voxel_mini_data/data_object_velodyne/training/velodyne/000019.bin', './data/dataset/voxel_mini_data/data_object_velodyne/training/velodyne/000021.bin', './data/dataset/voxel_mini_data/data_object_velodyne/training/velodyne/000035.bin', './data/dataset/voxel_mini_data/data_object_velodyne/training/velodyne/000009.bin', './data/dataset/voxel_mini_data/data_object_velodyne/training/velodyne/000008.bin', './data/dataset/voxel_mini_data/data_object_velodyne/training/velodyne/000034.bin', './data/dataset/voxel_mini_data/data_object_velodyne/training/velodyne/000020.bin', './data/dataset/voxel_mini_data/data_object_velodyne/training/velodyne/000036.bin', './data/dataset/voxel_mini_data/data_object_velodyne/training/velodyne/000022.bin', './data/dataset/voxel_mini_data/data_object_velodyne/training/velodyne/000023.bin', './data/dataset/voxel_mini_data/data_object_velodyne/training/velodyne/000037.bin', './data/dataset/voxel_mini_data/data_object_velodyne/training/velodyne/000012.bin', './data/dataset/voxel_mini_data/data_object_velodyne/training/velodyne/000006.bin', './data/dataset/voxel_mini_data/data_object_velodyne/training/velodyne/000007.bin', './data/dataset/voxel_mini_data/data_object_velodyne/training/velodyne/000013.bin', './data/dataset/voxel_mini_data/data_object_velodyne/training/velodyne/000039.bin', './data/dataset/voxel_mini_data/data_object_velodyne/training/velodyne/000005.bin', './data/dataset/voxel_mini_data/data_object_velodyne/training/velodyne/000011.bin', './data/dataset/voxel_mini_data/data_object_velodyne/training/velodyne/000010.bin', './data/dataset/voxel_mini_data/data_object_velodyne/training/velodyne/000004.bin', './data/dataset/voxel_mini_data/data_object_velodyne/training/velodyne/000038.bin', './data/dataset/voxel_mini_data/data_object_velodyne/training/velodyne/000000.bin', './data/dataset/voxel_mini_data/data_object_velodyne/training/velodyne/000014.bin', './data/dataset/voxel_mini_data/data_object_velodyne/training/velodyne/000028.bin', './data/dataset/voxel_mini_data/data_object_velodyne/training/velodyne/000029.bin', './data/dataset/voxel_mini_data/data_object_velodyne/training/velodyne/000015.bin', './data/dataset/voxel_mini_data/data_object_velodyne/training/velodyne/000001.bin', './data/dataset/voxel_mini_data/data_object_velodyne/training/velodyne/000017.bin', './data/dataset/voxel_mini_data/data_object_velodyne/training/velodyne/000003.bin', './data/dataset/voxel_mini_data/data_object_velodyne/training/velodyne/000002.bin', './data/dataset/voxel_mini_data/data_object_velodyne/training/velodyne/000016.bin', './data/dataset/voxel_mini_data/data_object_velodyne/training/velodyne/000059.bin', './data/dataset/voxel_mini_data/data_object_velodyne/training/velodyne/000071.bin', './data/dataset/voxel_mini_data/data_object_velodyne/training/velodyne/000065.bin', './data/dataset/voxel_mini_data/data_object_velodyne/training/velodyne/000064.bin', './data/dataset/voxel_mini_data/data_object_velodyne/training/velodyne/000070.bin', './data/dataset/voxel_mini_data/data_object_velodyne/training/velodyne/000058.bin', './data/dataset/voxel_mini_data/data_object_velodyne/training/velodyne/000066.bin', './data/dataset/voxel_mini_data/data_object_velodyne/training/velodyne/000072.bin', './data/dataset/voxel_mini_data/data_object_velodyne/training/velodyne/000099.bin', './data/dataset/voxel_mini_data/data_object_velodyne/training/velodyne/000098.bin', './data/dataset/voxel_mini_data/data_object_velodyne/training/velodyne/000073.bin', './data/dataset/voxel_mini_data/data_object_velodyne/training/velodyne/000067.bin', './data/dataset/voxel_mini_data/data_object_velodyne/training/velodyne/000063.bin', './data/dataset/voxel_mini_data/data_object_velodyne/training/velodyne/000077.bin', './data/dataset/voxel_mini_data/data_object_velodyne/training/velodyne/000088.bin', './data/dataset/voxel_mini_data/data_object_velodyne/training/velodyne/000089.bin', './data/dataset/voxel_mini_data/data_object_velodyne/training/velodyne/000076.bin', './data/dataset/voxel_mini_data/data_object_velodyne/training/velodyne/000062.bin', './data/dataset/voxel_mini_data/data_object_velodyne/training/velodyne/000074.bin', './data/dataset/voxel_mini_data/data_object_velodyne/training/velodyne/000060.bin', './data/dataset/voxel_mini_data/data_object_velodyne/training/velodyne/000048.bin', './data/dataset/voxel_mini_data/data_object_velodyne/training/velodyne/000049.bin', './data/dataset/voxel_mini_data/data_object_velodyne/training/velodyne/000061.bin', './data/dataset/voxel_mini_data/data_object_velodyne/training/velodyne/000075.bin']\n"
     ]
    }
   ],
   "source": [
    "from shutil import copyfile\n",
    "def structure_mov(path='./'):\n",
    "    for i in ['training','testing']:\n",
    "        targetpath_lab = \"./data/dataset/\"+i+\"/label_2/\"\n",
    "        \n",
    "        targetpath_ver = \"./data/dataset/\"+i+\"/image_2/\"\n",
    "        targetpath_img = \"./data/dataset/\"+i+\"/velodyne/\"\n",
    "        oripath_lab = \"./data/dataset/voxel_mini_data/data_object_label_2/\"+i+\"/label_2/*\"\n",
    "        oripath_ver = \"./data/dataset/voxel_mini_data/data_object_velodyne/\"+i+\"/velodyne/*\"\n",
    "        oripath_img = \"./data/dataset/voxel_mini_data/data_object_image_2/\"+i+\"/image_2/*\"\n",
    "        labs = glob(oripath_lab)\n",
    "        vers = glob(oripath_ver)\n",
    "        imgs = glob(oripath_img)\n",
    "        copyfile(src, dst)\n",
    "structure_mov()"
   ]
  },
  {
   "cell_type": "code",
   "execution_count": 23,
   "metadata": {},
   "outputs": [
    {
     "name": "stdout",
     "output_type": "stream",
     "text": [
      "mkdir: ./data/dataset/training/label_2: File exists\n",
      "mkdir: ./data/dataset/training/image_2: File exists\n",
      "mkdir: ./data/dataset/training/velodyne: File exists\n",
      "mkdir: ./data/dataset/training/calib: File exists\n",
      "mkdir: ./data/dataset/testing/velodyne: File exists\n",
      "mkdir: ./data/dataset/testing/label_2: File exists\n",
      "mkdir: ./data/dataset/testing/image_2: File exists\n",
      "mkdir: ./data/dataset/testing/calib: File exists\n",
      "cp: ./data/dataset/voxel_mini_data/data_object_label_2/training/label_2/*: No such file or directory\n",
      "cp: ./data/dataset/voxel_mini_data/data_object_image_2/training/image_2/*: No such file or directory\n",
      "cp: ./data/dataset/voxel_mini_data/data_object_velodyne/training/velodyne/*: No such file or directory\n",
      "cp: ./data/dataset/voxel_mini_data/data_object_calib/training/calib/*: No such file or directory\n",
      "cp: ./data/dataset/voxel_mini_data/data_object_label_2/testing/label_2/*: No such file or directory\n",
      "cp: ./data/dataset/voxel_mini_data/data_object_image_2/testing/image_2/*: No such file or directory\n",
      "cp: ./data/dataset/voxel_mini_data/data_object_velodyne/testing/velodyne/*: No such file or directory\n",
      "cp: ./data/dataset/voxel_mini_data/data_object_calib/testing/calib/*: No such file or directory\n"
     ]
    }
   ],
   "source": [
    "!mkdir ./data/dataset/training/label_2\n",
    "!mkdir ./data/dataset/training/image_2\n",
    "!mkdir ./data/dataset/training/velodyne\n",
    "!mkdir ./data/dataset/training/calib\n",
    "!mkdir ./data/dataset/training/crop\n",
    "!mkdir ./data/dataset/testing/velodyne\n",
    "!mkdir ./data/dataset/testing/label_2\n",
    "!mkdir ./data/dataset/testing/image_2\n",
    "!mkdir ./data/dataset/testing/calib\n",
    "!mkdir ./data/dataset/testing/crop\n",
    "\n",
    "!cp ./data/dataset/voxel_mini_data/data_object_label_2/training/label_2/* ./data/dataset/training/label_2/\n",
    "!cp ./data/dataset/voxel_mini_data/data_object_image_2/training/image_2/* ./data/dataset/training/image_2/\n",
    "!cp ./data/dataset/voxel_mini_data/data_object_velodyne/training/velodyne/* ./data/dataset/training/velodyne/\n",
    "!cp ./data/dataset/voxel_mini_data/data_object_calib/training/calib/* ./data/dataset/training/calib/\n",
    "\n",
    "!cp ./data/dataset/voxel_mini_data/data_object_label_2/testing/label_2/* ./data/dataset/testing/label_2/\n",
    "!cp ./data/dataset/voxel_mini_data/data_object_image_2/testing/image_2/* ./data/dataset/testing/image_2/\n",
    "!cp ./data/dataset/voxel_mini_data/data_object_velodyne/testing/velodyne/* ./data/dataset/testing/velodyne/\n",
    "!cp ./data/dataset/voxel_mini_data/data_object_calib/testing/calib/* ./data/dataset/testing/calib/\n",
    "\n",
    "\n"
   ]
  },
  {
   "cell_type": "code",
   "execution_count": null,
   "metadata": {},
   "outputs": [],
   "source": []
  }
 ],
 "metadata": {
  "kernelspec": {
   "display_name": "Python 3",
   "language": "python",
   "name": "python3"
  },
  "language_info": {
   "codemirror_mode": {
    "name": "ipython",
    "version": 3
   },
   "file_extension": ".py",
   "mimetype": "text/x-python",
   "name": "python",
   "nbconvert_exporter": "python",
   "pygments_lexer": "ipython3",
   "version": "3.7.3"
  }
 },
 "nbformat": 4,
 "nbformat_minor": 2
}
