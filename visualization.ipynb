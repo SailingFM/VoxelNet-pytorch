{
 "cells": [
  {
   "cell_type": "code",
   "execution_count": 45,
   "metadata": {},
   "outputs": [
    {
     "data": {
      "text/html": [
       "<img src=\"imgs/orientation.jpg\" width=\"50%\">\n",
       "camera organization & lidar(velo) setup\n"
      ],
      "text/plain": [
       "<IPython.core.display.HTML object>"
      ]
     },
     "metadata": {},
     "output_type": "display_data"
    }
   ],
   "source": [
    "%%html\n",
    "<img src=\"imgs/orientation.jpg\" width=\"50%\">\n",
    "camera organization & lidar(velo) setup"
   ]
  },
  {
   "cell_type": "code",
   "execution_count": 46,
   "metadata": {},
   "outputs": [
    {
     "data": {
      "text/html": [
       "<img src=\"imgs/car.png\" width=\"50%\">\n"
      ],
      "text/plain": [
       "<IPython.core.display.HTML object>"
      ]
     },
     "metadata": {},
     "output_type": "display_data"
    }
   ],
   "source": [
    "%%html\n",
    "<img src=\"imgs/car.png\" width=\"50%\">"
   ]
  },
  {
   "cell_type": "code",
   "execution_count": 47,
   "metadata": {},
   "outputs": [
    {
     "data": {
      "text/html": [
       "Intrinsic matrix: K\n",
       "<img src=\"imgs/intrinsic.jpg\" width=\"18%\">\n",
       "[Rotational matrix , Extrinsic matrix]: [R , T]\n",
       "<img src=\"imgs/whole.jpg\" width=\"20%\">\n",
       "Velodyne Point Cloud coords to camera\n",
       "<img src=\"imgs/pt_to_cam.jpg\" width=\"19%\">\n",
       "\n",
       "intrinsic matrix(obtained by camera calibration)：calib.P_rect{cam+1}\n",
       "rotational matrix based on cam0：R_cam_to_rect\n",
       "extrinisc：Tr_velo_to_cam\n",
       "\n",
       "P_velo_to_img = calib.P_rect{cam+1} * R_cam_to_rect * Tr_velo_to_cam\n"
      ],
      "text/plain": [
       "<IPython.core.display.HTML object>"
      ]
     },
     "metadata": {},
     "output_type": "display_data"
    }
   ],
   "source": [
    "%%html\n",
    "Intrinsic matrix: K\n",
    "<img src=\"imgs/intrinsic.jpg\" width=\"18%\">\n",
    "[Rotational matrix , Extrinsic matrix]: [R , T]\n",
    "<img src=\"imgs/whole.jpg\" width=\"20%\">\n",
    "Velodyne Point Cloud coords to camera\n",
    "<img src=\"imgs/pt_to_cam.jpg\" width=\"19%\">\n",
    "\n",
    "intrinsic matrix(obtained by camera calibration)：calib.P_rect{cam+1}\n",
    "rotational matrix based on cam0：R_cam_to_rect\n",
    "extrinisc：Tr_velo_to_cam\n",
    "\n",
    "P_velo_to_img = calib.P_rect{cam+1} * R_cam_to_rect * Tr_velo_to_cam"
   ]
  },
  {
   "cell_type": "code",
   "execution_count": null,
   "metadata": {},
   "outputs": [],
   "source": []
  },
  {
   "cell_type": "code",
   "execution_count": 48,
   "metadata": {},
   "outputs": [
    {
     "name": "stdout",
     "output_type": "stream",
     "text": [
      "['Car', 'Cyclist', 'Van', 'Pedestrian']\n"
     ]
    }
   ],
   "source": [
    "import mayavi.mlab as mlab\n",
    "import matplotlib.pyplot as plt\n",
    "from utils.coord_transform import *\n",
    "from utils.file_load import *\n",
    "import numpy as np\n",
    "from glob import glob\n",
    "import sys\n",
    "import os\n",
    "import cv2\n",
    "import yaml\n",
    "\n",
    "yamlPath = \"configure.yaml\"\n",
    "f = open(yamlPath, 'r', encoding='utf-8')\n",
    "\n",
    "conf = f.read()\n",
    "conf_dict = yaml.safe_load(conf) \n",
    "\n",
    "range_x=conf_dict['range_x']\n",
    "range_y=conf_dict['range_y']\n",
    "range_z=conf_dict['range_z']\n",
    "vox_depth = conf_dict['vox_d']\n",
    "vox_width = conf_dict['vox_w']\n",
    "vox_height = conf_dict['vox_h']\n",
    "classes = conf_dict[\"classes\"]\n",
    "\n",
    "print (classes)\n",
    "parent_pth = \"/Users/syd/Documents/GitHub/VoxelNet-pytorch/data/dataset/voxel_mini_data\"\n",
    "velo_parent_path = os.path.join(parent_pth,\"data_object_velodyne/\")\n",
    "\n",
    "velo_files = glob(velo_parent_path+'*/velodyne/*')\n",
    "\n",
    "# NUMBER 2 is the origin of camera coordinate\n",
    "CAM = 2\n"
   ]
  },
  {
   "cell_type": "code",
   "execution_count": 53,
   "metadata": {},
   "outputs": [],
   "source": [
    "def plot_bbox_2d(file_index):\n",
    "    file_name = \"%06d\"%(file_index)\n",
    "    img_path = os.path.join(parent_pth,'data_object_image_2','training','image_2',file_name+'.png')\n",
    "    label_path = os.path.join(parent_pth,'data_object_label_2','training','label_2',file_name+'.txt')\n",
    "    print(file_index,img_path)\n",
    "    bbox_2d, bbox_3d= read_label(label_path)\n",
    "    img = read_img(img_path)\n",
    "    img_height,img_width,_ = img.shape\n",
    "    plt.figure(figsize=(30,30))\n",
    "    for box in bbox_2d:\n",
    "        cur_type = box[0]\n",
    "        cur_conf = box[-1]\n",
    "        box = list(map(lambda x: int(eval(x)),box[1:-1]))\n",
    "        if cur_type not in classes:\n",
    "            continue\n",
    "       \n",
    "        xmin = max(min(box[0],box[2]),0)\n",
    "        xmax = min(max(box[0],box[2]),img_width)\n",
    "        ymin = max(min(box[1],box[3]),0)\n",
    "        ymax = min(max(box[1],box[3]),img_height)\n",
    "        cv2.rectangle(img, (xmin, ymin), (xmax, ymax), (0, 255, 0), 2)\n",
    "        cv2.putText(img, cur_type, (xmin, ymin), cv2.FONT_HERSHEY_COMPLEX, 0.5, (0, 255, 0), 1)\n",
    "    plt.imshow(img)"
   ]
  },
  {
   "cell_type": "code",
   "execution_count": null,
   "metadata": {},
   "outputs": [
    {
     "name": "stdout",
     "output_type": "stream",
     "text": [
      "73 /Users/syd/Documents/GitHub/VoxelNet-pytorch/data/dataset/voxel_mini_data/data_object_image_2/training/image_2/000073.png\n"
     ]
    }
   ],
   "source": [
    "index = 73\n",
    "plot_bbox_2d(index)"
   ]
  },
  {
   "cell_type": "code",
   "execution_count": 51,
   "metadata": {},
   "outputs": [],
   "source": [
    "def draw_lidar(lidar, is_grid=False, is_axis = False, is_top_region=True, fig=None):\n",
    "    pxs=lidar[:,0]\n",
    "    pys=lidar[:,1]\n",
    "    pzs=lidar[:,2]\n",
    "    prs=lidar[:,3]\n",
    "    \n",
    "    if fig is None: fig = mlab.figure(figure=None, bgcolor=(0,0,0), fgcolor=None, engine=None, size=(1000, 500))\n",
    "   \n",
    "    mlab.points3d(\n",
    "        pxs, pys, pzs, prs,\n",
    "        mode='point',  # 'point'  'sphere'\n",
    "        colormap='gnuplot',  #'bone',  #'spectral',  #'copper',\n",
    "        scale_factor=1,\n",
    "        figure=fig)\n",
    "   \n",
    "    #draw grid\n",
    "    if is_grid:\n",
    "        mlab.points3d(0, 0, 0, color=(1,1,1), mode='sphere', scale_factor=0.2,figure=fig)\n",
    "\n",
    "        for y in np.arange(-50,50,1):\n",
    "            x1,y1,z1 = -50, y, 0\n",
    "            x2,y2,z2 =  50, y, 0\n",
    "            mlab.plot3d([x1, x2], [y1, y2], [z1,z2], color=(0.5,0.5,0.5), tube_radius=None, line_width=1, figure=fig)\n",
    "\n",
    "        for x in np.arange(-50,50,1):\n",
    "            x1,y1,z1 = x,-50, 0\n",
    "            x2,y2,z2 = x, 50, 0\n",
    "            mlab.plot3d([x1, x2], [y1, y2], [z1,z2], color=(0.5,0.5,0.5), tube_radius=None, line_width=1, figure=fig)\n",
    "\n",
    "    #draw axis\n",
    "    if is_axis:\n",
    "        mlab.points3d(0, 0, 0, color=(1,1,1), mode='sphere', scale_factor=0.2,figure=fig)\n",
    "\n",
    "        axes=np.array([\n",
    "            [2.,0.,0.,0.],\n",
    "            [0.,2.,0.,0.],\n",
    "            [0.,0.,2.,0.],\n",
    "        ],dtype=np.float64)\n",
    "        fov=np.array([  ##<todo> : now is 45 deg. use actual setting later ...\n",
    "            [20., 20., 0.,0.],\n",
    "            [20.,-20., 0.,0.],\n",
    "        ],dtype=np.float64)\n",
    "\n",
    "        mlab.plot3d([0, axes[0,0]], [0, axes[0,1]], [0, axes[0,2]], color=(1,0,0), tube_radius=None, figure=fig)\n",
    "        mlab.plot3d([0, axes[1,0]], [0, axes[1,1]], [0, axes[1,2]], color=(0,1,0), tube_radius=None, figure=fig)\n",
    "        mlab.plot3d([0, axes[2,0]], [0, axes[2,1]], [0, axes[2,2]], color=(0,0,1), tube_radius=None, figure=fig)\n",
    "        mlab.plot3d([0, fov[0,0]], [0, fov[0,1]], [0, fov[0,2]], color=(1,1,1), tube_radius=None, line_width=1, figure=fig)\n",
    "        mlab.plot3d([0, fov[1,0]], [0, fov[1,1]], [0, fov[1,2]], color=(1,1,1), tube_radius=None, line_width=1, figure=fig)\n",
    "\n",
    "    #draw top_image feature area\n",
    "    \n",
    "    if is_top_region:\n",
    "        x1 = cfg.xrange[0]\n",
    "        x2 = cfg.xrange[1]\n",
    "        y1 = cfg.yrange[0]\n",
    "        y2 = cfg.yrange[1]\n",
    "        \n",
    "        mlab.plot3d([x1, x1], [y1, y2], [0,0], color=(0.5,0.5,0.5), tube_radius=None, line_width=1, figure=fig)\n",
    "        mlab.plot3d([x2, x2], [y1, y2], [0,0], color=(0.5,0.5,0.5), tube_radius=None, line_width=1, figure=fig)\n",
    "        mlab.plot3d([x1, x2], [y1, y1], [0,0], color=(0.5,0.5,0.5), tube_radius=None, line_width=1, figure=fig)\n",
    "        mlab.plot3d([x1, x2], [y2, y2], [0,0], color=(0.5,0.5,0.5), tube_radius=None, line_width=1, figure=fig)\n",
    "\n",
    "    mlab.orientation_axes()\n",
    "    mlab.view(azimuth=180,elevation=None,distance=50,focalpoint=[ 12.0909996 , -1.04700089, -2.03249991])#2.0909996 , -1.04700089, -2.03249991\n",
    "    #out_path =\"imgs/lidar.jpg\"\n",
    "    #mlab.savefig(out_path)\n",
    "    return fig\n"
   ]
  },
  {
   "cell_type": "code",
   "execution_count": 52,
   "metadata": {},
   "outputs": [
    {
     "ename": "IndexError",
     "evalue": "list index out of range",
     "output_type": "error",
     "traceback": [
      "\u001b[0;31m---------------------------------------------------------------------------\u001b[0m",
      "\u001b[0;31mIndexError\u001b[0m                                Traceback (most recent call last)",
      "\u001b[0;32m<ipython-input-52-b68ae00e2005>\u001b[0m in \u001b[0;36m<module>\u001b[0;34m\u001b[0m\n\u001b[1;32m      1\u001b[0m \u001b[0;31m#visualization of all pt cloud\u001b[0m\u001b[0;34m\u001b[0m\u001b[0;34m\u001b[0m\u001b[0;34m\u001b[0m\u001b[0m\n\u001b[0;32m----> 2\u001b[0;31m \u001b[0mlidars\u001b[0m \u001b[0;34m=\u001b[0m \u001b[0mread_velodyne_points\u001b[0m\u001b[0;34m(\u001b[0m\u001b[0mvelo_files\u001b[0m\u001b[0;34m[\u001b[0m\u001b[0mindex\u001b[0m\u001b[0;34m]\u001b[0m\u001b[0;34m)\u001b[0m\u001b[0;34m\u001b[0m\u001b[0;34m\u001b[0m\u001b[0m\n\u001b[0m\u001b[1;32m      3\u001b[0m \u001b[0mlidars\u001b[0m\u001b[0;34m,\u001b[0m\u001b[0mindices\u001b[0m \u001b[0;34m=\u001b[0m \u001b[0mprepare_velodyne_points\u001b[0m\u001b[0;34m(\u001b[0m\u001b[0mlidars\u001b[0m\u001b[0;34m,\u001b[0m\u001b[0mrange_x\u001b[0m \u001b[0;34m=\u001b[0m\u001b[0mrange_x\u001b[0m\u001b[0;34m,\u001b[0m\u001b[0mrange_y\u001b[0m\u001b[0;34m=\u001b[0m\u001b[0mrange_y\u001b[0m\u001b[0;34m,\u001b[0m\u001b[0mrange_z\u001b[0m \u001b[0;34m=\u001b[0m \u001b[0mrange_z\u001b[0m\u001b[0;34m)\u001b[0m\u001b[0;34m\u001b[0m\u001b[0;34m\u001b[0m\u001b[0m\n\u001b[1;32m      4\u001b[0m \u001b[0mfig\u001b[0m \u001b[0;34m=\u001b[0m \u001b[0mdraw_lidar\u001b[0m\u001b[0;34m(\u001b[0m\u001b[0mlidars\u001b[0m\u001b[0;34m,\u001b[0m\u001b[0mis_grid\u001b[0m \u001b[0;34m=\u001b[0m \u001b[0;32mFalse\u001b[0m\u001b[0;34m,\u001b[0m\u001b[0mis_axis\u001b[0m \u001b[0;34m=\u001b[0m \u001b[0;32mFalse\u001b[0m\u001b[0;34m,\u001b[0m\u001b[0mis_top_region\u001b[0m \u001b[0;34m=\u001b[0m \u001b[0;32mFalse\u001b[0m\u001b[0;34m)\u001b[0m\u001b[0;34m\u001b[0m\u001b[0;34m\u001b[0m\u001b[0m\n",
      "\u001b[0;31mIndexError\u001b[0m: list index out of range"
     ]
    }
   ],
   "source": [
    "#visualization of all pt cloud\n",
    "lidars = read_velodyne_points(velo_files[index])\n",
    "lidars,indices = prepare_velodyne_points(lidars,range_x =range_x,range_y=range_y,range_z = range_z)\n",
    "fig = draw_lidar(lidars,is_grid = False,is_axis = False,is_top_region = False)"
   ]
  },
  {
   "cell_type": "code",
   "execution_count": 27,
   "metadata": {},
   "outputs": [],
   "source": [
    "def plot_bbox3d(lidars,bbox3d, cal_Tr, fig, color_setting='uniform', line_width=2):\n",
    "    colors = [(0,0,1),(0,1,0),(1,0,0),(0,1,1),(1,0,1),(1,1,1)]\n",
    "    for b in bbox3d:\n",
    "        if b[0] not in classes:\n",
    "            continue\n",
    "        if color_setting== 'uniform':\n",
    "            color = (1,0,1)\n",
    "        else:\n",
    "            color = colors[classes.index(b[0])]\n",
    "        b = list(map(lambda x:eval(x),b[1:]))\n",
    "        b = box3d_cam_to_velo(b,cal_Tr)\n",
    "        #print(b)\n",
    "        for k in range(0,4):\n",
    "            i,j=k,(k+1)%4\n",
    "            mlab.plot3d([b[i,0], b[j,0]], [b[i,1], b[j,1]], [b[i,2], b[j,2]], color=color, tube_radius=None, line_width=line_width, figure=fig)\n",
    "            i,j=k+4,(k+3)%4 + 4\n",
    "            mlab.plot3d([b[i,0], b[j,0]], [b[i,1], b[j,1]], [b[i,2], b[j,2]], color=color, tube_radius=None, line_width=line_width, figure=fig)\n",
    "            i,j=k,k+4\n",
    "            mlab.plot3d([b[i,0], b[j,0]], [b[i,1], b[j,1]], [b[i,2], b[j,2]], color=color, tube_radius=None, line_width=line_width, figure=fig)\n",
    "    mlab.view(azimuth=180,elevation=None,distance=50,focalpoint=[ 12.0909996 , -1.04700089, -2.03249991])#2.0909996 , -1.04700089, -2.03249991\n",
    "    out_path =\"imgs/lidar.jpg\"\n",
    "    mlab.savefig(out_path)\n",
    "    mlab.close()"
   ]
  },
  {
   "cell_type": "code",
   "execution_count": 28,
   "metadata": {},
   "outputs": [
    {
     "name": "stdout",
     "output_type": "stream",
     "text": [
      "./data/dataset/voxel_mini_data\n",
      "range [0, 70] [-40, 40] [-3, 1] 123478 123478\n"
     ]
    }
   ],
   "source": [
    "#visualization of 3d-bbox\n",
    "img_path,vel_path,cal_path,label_path = generate_file_path(index)\n",
    "lidars = read_velodyne_points(vel_path)\n",
    "lidars,indices = prepare_velodyne_points(lidars,range_x =range_x,range_y=range_y,range_z = range_z)\n",
    "cal_dict = read_cal(cal_path)\n",
    "fig = draw_lidar(lidars, is_grid=False, is_axis = False,is_top_region=False, fig=None)\n",
    "_, bbox3d = read_label(label_path)\n",
    "\n",
    "#print(bbox3d)\n",
    "plot_bbox3d(lidars,bbox3d,cal_dict['Tr_velo_to_cam'],fig,color_setting='distinguished')"
   ]
  },
  {
   "cell_type": "code",
   "execution_count": 39,
   "metadata": {},
   "outputs": [
    {
     "data": {
      "text/html": [
       "<img src=\"imgs/lidar.jpg\" width=\"50%\">\n",
       "bboxes 3d in lidar pt cloud\n"
      ],
      "text/plain": [
       "<IPython.core.display.HTML object>"
      ]
     },
     "metadata": {},
     "output_type": "display_data"
    }
   ],
   "source": [
    "%%html\n",
    "<img src=\"imgs/lidar.jpg\" width=\"50%\">\n",
    "bboxes 3d in lidar pt cloud"
   ]
  },
  {
   "cell_type": "code",
   "execution_count": 44,
   "metadata": {},
   "outputs": [
    {
     "data": {
      "text/plain": [
       "(array([[1, 2, 3],\n",
       "        [2, 3, 1],\n",
       "        [4, 5, 6]]), array([0, 1, 0, 2]), array([2, 1, 1]))"
      ]
     },
     "execution_count": 44,
     "metadata": {},
     "output_type": "execute_result"
    }
   ],
   "source": [
    "a=np.array([[1,2,3],[2,3,1],[1,2,3],[4,5,6]])\n",
    "np.unique(a,axis=0,return_inverse=True, return_counts=True)"
   ]
  },
  {
   "cell_type": "code",
   "execution_count": null,
   "metadata": {},
   "outputs": [],
   "source": []
  }
 ],
 "metadata": {
  "kernelspec": {
   "display_name": "Python 3",
   "language": "python",
   "name": "python3"
  },
  "language_info": {
   "codemirror_mode": {
    "name": "ipython",
    "version": 3
   },
   "file_extension": ".py",
   "mimetype": "text/x-python",
   "name": "python",
   "nbconvert_exporter": "python",
   "pygments_lexer": "ipython3",
   "version": "3.7.3"
  }
 },
 "nbformat": 4,
 "nbformat_minor": 2
}
